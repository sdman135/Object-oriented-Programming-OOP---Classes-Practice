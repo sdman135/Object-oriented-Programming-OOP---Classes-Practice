{
 "cells": [
  {
   "cell_type": "markdown",
   "metadata": {},
   "source": [
    "# Making a class"
   ]
  },
  {
   "cell_type": "code",
   "execution_count": null,
   "metadata": {},
   "outputs": [],
   "source": [
    "# create a class with placeholder pass\n",
    "class Pets:\n",
    "    pass"
   ]
  },
  {
   "cell_type": "code",
   "execution_count": 1,
   "metadata": {
    "ExecuteTime": {
     "end_time": "2021-07-03T01:56:07.674832Z",
     "start_time": "2021-07-03T01:56:07.652822Z"
    }
   },
   "outputs": [],
   "source": [
    "# create a class with attributes and methods\n",
    "class Instructors:\n",
    "    companyName = \"Bluelime\"\n",
    "    \n",
    "    # Initializer method\n",
    "    def __init__(self,course):\n",
    "        # attributes\n",
    "        self.course = course\n",
    "        \n",
    "    # Print method   \n",
    "    def printinfo(self):\n",
    "        print(f\"My Company's name is {Instructors.companyName}\")\n",
    "        "
   ]
  },
  {
   "cell_type": "markdown",
   "metadata": {},
   "source": [
    "# Instantiating a class"
   ]
  },
  {
   "cell_type": "code",
   "execution_count": 7,
   "metadata": {
    "ExecuteTime": {
     "end_time": "2021-07-03T02:13:04.675143Z",
     "start_time": "2021-07-03T02:13:04.662141Z"
    }
   },
   "outputs": [],
   "source": [
    "# Instantiating a class\n",
    "elearning = Instructors(\"Python for beginners\")        \n",
    "   \n",
    "bls = Instructors(\"Django for beginners\")"
   ]
  },
  {
   "cell_type": "code",
   "execution_count": 8,
   "metadata": {
    "ExecuteTime": {
     "end_time": "2021-07-03T02:13:04.990140Z",
     "start_time": "2021-07-03T02:13:04.982141Z"
    }
   },
   "outputs": [
    {
     "name": "stdout",
     "output_type": "stream",
     "text": [
      "My Company's name is Bluelime\n"
     ]
    }
   ],
   "source": [
    "# Using method from class with instance bls\n",
    "bls.printinfo()"
   ]
  },
  {
   "cell_type": "code",
   "execution_count": 9,
   "metadata": {
    "ExecuteTime": {
     "end_time": "2021-07-03T02:13:05.257142Z",
     "start_time": "2021-07-03T02:13:05.243142Z"
    }
   },
   "outputs": [
    {
     "name": "stdout",
     "output_type": "stream",
     "text": [
      "My Company's name is Bluelime\n"
     ]
    }
   ],
   "source": [
    "# Using method from class with instance elearning\n",
    "elearning.printinfo()"
   ]
  },
  {
   "cell_type": "code",
   "execution_count": 10,
   "metadata": {
    "ExecuteTime": {
     "end_time": "2021-07-03T02:13:06.159149Z",
     "start_time": "2021-07-03T02:13:06.152142Z"
    }
   },
   "outputs": [
    {
     "name": "stdout",
     "output_type": "stream",
     "text": [
      "Django for beginners\n"
     ]
    }
   ],
   "source": [
    "# printing attribute from class with instance bls\n",
    "print(bls.course)"
   ]
  },
  {
   "cell_type": "code",
   "execution_count": 11,
   "metadata": {
    "ExecuteTime": {
     "end_time": "2021-07-03T02:13:06.521142Z",
     "start_time": "2021-07-03T02:13:06.506141Z"
    }
   },
   "outputs": [
    {
     "name": "stdout",
     "output_type": "stream",
     "text": [
      "Python for beginners\n"
     ]
    }
   ],
   "source": [
    "# printing attribute from class with instance elearning\n",
    "print(elearning.course)"
   ]
  },
  {
   "cell_type": "markdown",
   "metadata": {},
   "source": [
    "# Modifying a class"
   ]
  },
  {
   "cell_type": "code",
   "execution_count": null,
   "metadata": {},
   "outputs": [],
   "source": [
    "# add attribute\n"
   ]
  }
 ],
 "metadata": {
  "kernelspec": {
   "display_name": "Python 3",
   "language": "python",
   "name": "python3"
  },
  "language_info": {
   "codemirror_mode": {
    "name": "ipython",
    "version": 3
   },
   "file_extension": ".py",
   "mimetype": "text/x-python",
   "name": "python",
   "nbconvert_exporter": "python",
   "pygments_lexer": "ipython3",
   "version": "3.7.4"
  },
  "toc": {
   "base_numbering": 1,
   "nav_menu": {},
   "number_sections": true,
   "sideBar": true,
   "skip_h1_title": false,
   "title_cell": "Table of Contents",
   "title_sidebar": "Contents",
   "toc_cell": false,
   "toc_position": {},
   "toc_section_display": true,
   "toc_window_display": false
  }
 },
 "nbformat": 4,
 "nbformat_minor": 2
}
